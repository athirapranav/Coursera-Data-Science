{
 "cells": [
  {
   "cell_type": "markdown",
   "id": "ef88be38-470b-4dc1-aaf2-506328a1dee4",
   "metadata": {},
   "source": [
    "# Data Science Tools and EcoSystem"
   ]
  },
  {
   "cell_type": "markdown",
   "id": "8a88d11b-8d04-4e59-a016-db09c44274b4",
   "metadata": {},
   "source": [
    " In this notebook, Data Science Tools and Ecosystem are summarized."
   ]
  },
  {
   "cell_type": "markdown",
   "id": "7435331c-b582-4c7d-a7c5-b8ae609a8abf",
   "metadata": {},
   "source": [
    "### **Objectives**\n",
    "* List data science languages\n",
    "* List data science libraries\n",
    "* List data science open source tools\n",
    "* Evaluation of arithmetic expressions"
   ]
  },
  {
   "cell_type": "markdown",
   "id": "508b7da9-aa36-4019-b263-ce2d01163723",
   "metadata": {},
   "source": [
    "Some of the popular languages that Data Scientists use are:\n",
    "1. Python\n",
    "2. Javascript\n",
    "3. R"
   ]
  },
  {
   "cell_type": "markdown",
   "id": "4f4655ef-df54-417b-8a5b-c3ec8e209607",
   "metadata": {},
   "source": [
    "Some of the commonly used libraries used by Data Scientists include:\n",
    "1. Numpy\n",
    "2. Keras\n",
    "3. Pandas"
   ]
  },
  {
   "cell_type": "markdown",
   "id": "d0dcfcb5-ee5e-40e5-887b-9c93bb9c1bb5",
   "metadata": {},
   "source": [
    "|Data Science Tools|\n",
    "|:--|\n",
    "|RStudio|\n",
    "|Apachespark|\n",
    "|Tensorflow|\n"
   ]
  },
  {
   "cell_type": "markdown",
   "id": "9ecdb426-85a0-4637-a545-53e477aba5b0",
   "metadata": {},
   "source": [
    "### Below are a few examples of evaluating arithmetics expressions in python"
   ]
  },
  {
   "cell_type": "code",
   "execution_count": 4,
   "id": "aaffd30a-e0ae-4b0d-8f70-ef11cc607f86",
   "metadata": {},
   "outputs": [
    {
     "data": {
      "text/plain": [
       "17"
      ]
     },
     "execution_count": 4,
     "metadata": {},
     "output_type": "execute_result"
    }
   ],
   "source": [
    "# This is a simple arithmetic expression to multiply then add integers\n",
    "(3*4)+5"
   ]
  },
  {
   "cell_type": "code",
   "execution_count": 5,
   "id": "55808b52-deb4-44e9-8bb2-47f93be60a0c",
   "metadata": {},
   "outputs": [
    {
     "data": {
      "text/plain": [
       "3.3333333333333335"
      ]
     },
     "execution_count": 5,
     "metadata": {},
     "output_type": "execute_result"
    }
   ],
   "source": [
    "# This will convert 200 minutes to hours by dividing by 60\n",
    "200/60"
   ]
  },
  {
   "cell_type": "markdown",
   "id": "12bf945f-b3fe-4015-8415-3fd980423c45",
   "metadata": {},
   "source": [
    "## Author\n",
    "Athira S Nair"
   ]
  },
  {
   "cell_type": "code",
   "execution_count": null,
   "id": "759bf0fb-fcdc-466e-8119-6f3d5f95dad2",
   "metadata": {},
   "outputs": [],
   "source": []
  }
 ],
 "metadata": {
  "kernelspec": {
   "display_name": "Python 3 (ipykernel)",
   "language": "python",
   "name": "python3"
  },
  "language_info": {
   "codemirror_mode": {
    "name": "ipython",
    "version": 3
   },
   "file_extension": ".py",
   "mimetype": "text/x-python",
   "name": "python",
   "nbconvert_exporter": "python",
   "pygments_lexer": "ipython3",
   "version": "3.12.0"
  }
 },
 "nbformat": 4,
 "nbformat_minor": 5
}
